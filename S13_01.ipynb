{
 "cells": [
  {
   "cell_type": "markdown",
   "id": "985466c0",
   "metadata": {},
   "source": [
    "# <font color='#d50283'>IT Academy - Data Science</font>\n",
    "##  S13 T01: Bases de dades relacionals\n",
    "### Luis Ortas"
   ]
  },
  {
   "cell_type": "markdown",
   "id": "af0cf2bf",
   "metadata": {},
   "source": [
    "#### Descripció\n",
    "Aprendre a crear un model relacional i diagrama entitat-relació."
   ]
  },
  {
   "cell_type": "markdown",
   "id": "3a710dd9",
   "metadata": {},
   "source": [
    "***"
   ]
  },
  {
   "cell_type": "markdown",
   "id": "36597667",
   "metadata": {},
   "source": [
    "### Exercici 1\n",
    "Crea una base relacional d’exemple utilitzant un document de text o a mà. Dissenya-la perquè contingui les següents taules, i estableix les relacions que consideris necessàries entre elles:"
   ]
  },
  {
   "cell_type": "markdown",
   "id": "7c7505f4",
   "metadata": {
    "ExecuteTime": {
     "end_time": "2022-03-16T13:11:42.593129Z",
     "start_time": "2022-03-16T13:11:42.583127Z"
    }
   },
   "source": [
    "<img src=\"Mibbpp2.png\">"
   ]
  },
  {
   "cell_type": "markdown",
   "id": "337b205b",
   "metadata": {},
   "source": [
    "Realizado con Power Point\n",
    "\n",
    "### Relaciones:\n",
    "- **Contrato**:\n",
    "1:n. Relación entre los establecimientos y los trabajadores. Un establecimiento puede tener  varios trabajadores, los trabajadores trabajan en un solo centro.\n",
    "- **Transancion**:\n",
    "1:n. En un centro se realizan multitud de transaciones.\n",
    "- **Distribucion**:\n",
    "1:n. \n",
    "- **Referencia**:\n",
    "n:1. Un producto tiene una referencia pero una referencia se puede asignar a diversos productos.\n"
   ]
  },
  {
   "cell_type": "markdown",
   "id": "2f77e3f0",
   "metadata": {},
   "source": [
    "***\n",
    "### Exercici 2\n",
    "Utilitza un programa de creació de diagrames entitat-relació. https://drawsql.app"
   ]
  },
  {
   "cell_type": "markdown",
   "id": "d884e238",
   "metadata": {},
   "source": [
    "<img src=\"drawSQL-export-2022-03-16_14_51.png\">"
   ]
  },
  {
   "cell_type": "markdown",
   "id": "4b4427e2",
   "metadata": {},
   "source": [
    "***\n",
    "### Exercici 3\n",
    "Utilitza el Workbench de MySQL per crear un model relacional. "
   ]
  },
  {
   "cell_type": "markdown",
   "id": "9de5ecc4",
   "metadata": {
    "ExecuteTime": {
     "end_time": "2022-03-16T14:50:19.663914Z",
     "start_time": "2022-03-16T14:50:19.649076Z"
    }
   },
   "source": [
    "<img src=\"Diagrama.png\">"
   ]
  },
  {
   "cell_type": "markdown",
   "id": "879c7eb8",
   "metadata": {},
   "source": [
    "***"
   ]
  }
 ],
 "metadata": {
  "kernelspec": {
   "display_name": "Python 3",
   "language": "python",
   "name": "python3"
  },
  "language_info": {
   "codemirror_mode": {
    "name": "ipython",
    "version": 3
   },
   "file_extension": ".py",
   "mimetype": "text/x-python",
   "name": "python",
   "nbconvert_exporter": "python",
   "pygments_lexer": "ipython3",
   "version": "3.8.8"
  }
 },
 "nbformat": 4,
 "nbformat_minor": 5
}
